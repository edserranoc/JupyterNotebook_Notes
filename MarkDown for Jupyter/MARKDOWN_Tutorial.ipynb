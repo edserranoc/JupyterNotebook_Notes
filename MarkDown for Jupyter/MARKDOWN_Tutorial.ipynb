{
 "cells": [
  {
   "cell_type": "markdown",
   "id": "a66483f5-4cc0-43ab-b21f-199b40c96a3e",
   "metadata": {
    "slideshow": {
     "slide_type": "slide"
    }
   },
   "source": [
    "# <center><font color=\"purple\">Jupyter y Markdown</font></center>\n"
   ]
  },
  {
   "cell_type": "markdown",
   "id": "a2ccb347",
   "metadata": {
    "slideshow": {
     "slide_type": "slide"
    }
   },
   "source": [
    "## <font color=\"purple\" >Formato de Texto (Text Format)</font>"
   ]
  },
  {
   "cell_type": "markdown",
   "id": "337a3f70",
   "metadata": {
    "slideshow": {
     "slide_type": "fragment"
    }
   },
   "source": [
    "- Enfasis del texto:<br>\n",
    "\t- **Bold**\n",
    "    - *Italic*\n",
    "    - ***Bold and Italic***"
   ]
  },
  {
   "cell_type": "markdown",
   "id": "fc1e5f6c",
   "metadata": {
    "slideshow": {
     "slide_type": "fragment"
    }
   },
   "source": [
    "- Tachado:\n",
    "\t- ~~Scratch this~~\n",
    "\t- <del>Scratch this</del>"
   ]
  },
  {
   "cell_type": "markdown",
   "id": "e3122406",
   "metadata": {
    "slideshow": {
     "slide_type": "slide"
    }
   },
   "source": [
    "- Color:<br>\n",
    "\t- <span style=\"color:blue\">some *This is Blue italic.* text</span> <br>\n",
    "\t- <span style=\"color:red\">some **This is Red Bold.** text</span> <br>"
   ]
  },
  {
   "cell_type": "markdown",
   "id": "04a1d506",
   "metadata": {
    "slideshow": {
     "slide_type": "fragment"
    }
   },
   "source": [
    "- Resaltar texto:<br>\n",
    "\t- <mark >Highlighted text</mark> <br>\n",
    "\t- <mark style=\"background-color: #FFFF00\">Highlighted text</mark><br>\n",
    "    - <p style=\"background:black\">\n",
    "<code style=\"background:black;color:white\">C:\\Users\\YOUR_USERNAME> pip3 install roughviz\n",
    "</code>\n",
    "</p>"
   ]
  },
  {
   "cell_type": "markdown",
   "id": "13970ecd",
   "metadata": {
    "slideshow": {
     "slide_type": "slide"
    }
   },
   "source": [
    "## <font color=\"purple\" >Encabezados (Headers)</font>"
   ]
  },
  {
   "cell_type": "markdown",
   "id": "7668263f",
   "metadata": {
    "slideshow": {
     "slide_type": "fragment"
    }
   },
   "source": [
    "- Tipos (Tamaño o Jerarquía):  \n",
    "\t(Markdown Syntax): \\#### Header 4 <br>\n",
    "    (HTML Syntax): \\<h4>Header 4\\</h4>\n",
    "\n",
    "\n",
    "- Alineación: <br> \n",
    "\t- \\<h1 align=\"right\"\\>Exploratory Data Analysis\\</h1\\>\n",
    "    - \\# <center\\> Jupyter y Markdown \\<\\\\center\\>\n",
    "- Color: <br>\n",
    "\t- \\<h1\\>\\<font color=\"purple\" \\>Exploratory Data Analysis\\<\\/font>\\</h1\\>\n",
    "    "
   ]
  },
  {
   "cell_type": "markdown",
   "id": "6320df34",
   "metadata": {
    "slideshow": {
     "slide_type": "slide"
    }
   },
   "source": [
    "## <font color=\"purple\" > Comentarios en Markdown (MarkDown Comments)</font> "
   ]
  },
  {
   "cell_type": "markdown",
   "id": "b8cf7621",
   "metadata": {
    "slideshow": {
     "slide_type": "fragment"
    }
   },
   "source": [
    "**Hacer un comentario** Escribir: \n",
    "\\<!---\n",
    "comments syntax\n",
    "--->\n",
    "\n",
    "<!---\n",
    "Me debes una empanada :)\n",
    "--->"
   ]
  },
  {
   "cell_type": "markdown",
   "id": "18b0e005",
   "metadata": {
    "slideshow": {
     "slide_type": "fragment"
    }
   },
   "source": [
    "**Usar símbolos especiales:** Hacer uso del símbolo \"\\\\\" para cancelar comandos.\n",
    "\t- \\# Not a header\n",
    "    -\\**Not bold\\**"
   ]
  },
  {
   "cell_type": "markdown",
   "id": "4275de87",
   "metadata": {
    "slideshow": {
     "slide_type": "slide"
    }
   },
   "source": [
    "## <font color=\"purple\" > Código en Markdown (Python Code)</font> \n",
    "\n",
    "```python\n",
    "# Program to generate a random number between 0 and 9\n",
    "\n",
    "# importing the random module\n",
    "import random\n",
    "\n",
    "print(random.randint(0,9))\n",
    "```"
   ]
  },
  {
   "cell_type": "markdown",
   "id": "5c55df93",
   "metadata": {
    "slideshow": {
     "slide_type": "slide"
    }
   },
   "source": [
    "## <font color=\"purple\" > Listas (Lists)</font>"
   ]
  },
  {
   "cell_type": "markdown",
   "id": "b4cac1ef",
   "metadata": {
    "slideshow": {
     "slide_type": "fragment"
    }
   },
   "source": [
    "**Listas ordenadas (Ordered Lists)**\n",
    "\n",
    "2. Second item\n",
    "3. Third item\n",
    "\t1. First item\n",
    "    \t1. First item\n",
    "        \t2. Second item\n",
    "4. Fourth item"
   ]
  },
  {
   "cell_type": "markdown",
   "id": "b0bd9714",
   "metadata": {
    "slideshow": {
     "slide_type": "slide"
    }
   },
   "source": [
    "**Listas no ordenadas (Unordered Lists)**\n",
    "\n",
    "- First item\n",
    "- Second item\n",
    "- Third item\n",
    "    - Indented item\n",
    "    - Indented item\n",
    "        - Indented item\n",
    "        - Indented item\n",
    "- Fourth item"
   ]
  },
  {
   "cell_type": "markdown",
   "id": "0e9149d5",
   "metadata": {
    "slideshow": {
     "slide_type": "slide"
    }
   },
   "source": [
    "## <font color=\"purple\" > Tablas (Tables)</font> \n",
    "\n",
    "|Header1 |Header2  | Header3|\n",
    "|:--- |:---:|---:|\n",
    "|Align left| Align right|center text|\n",
    "|cell |cell|cell |\n",
    "\n",
    "\n",
    "**Nota:**\n",
    "- Use :-: para centrar al centro.\n",
    "- Use - para centar a la derecha.\n",
    "- Use :- para centrar a la izquierda"
   ]
  },
  {
   "cell_type": "markdown",
   "id": "7cbc7bb9",
   "metadata": {
    "slideshow": {
     "slide_type": "slide"
    }
   },
   "source": [
    "## <font color=\"purple\" > Notas encerradas por cajas de colores (Colored Note Boxes)</font> \n",
    "\n",
    "<div class=\"alert alert-block alert-info\">\n",
    "<b>Tip:</b> Use blue boxes (alert-info) for tips and notes.</div>\n",
    "\n",
    "<div class=\"alert alert-block alert-warning\">\n",
    "<b>Example:</b> Use yellow boxes for examples that are not inside code cells, or use for mathematical formulas if needed. Typically also used to display warning messages.\n",
    "</div>"
   ]
  },
  {
   "cell_type": "markdown",
   "id": "66b3da4f",
   "metadata": {
    "slideshow": {
     "slide_type": "slide"
    }
   },
   "source": [
    "<div class=\"alert alert-block alert-success\">\n",
    "<b>Success:</b> This alert box indicates a successful or positive action.\n",
    "</div>\n",
    "\n",
    "<div class=\"alert alert-block alert-danger\">\n",
    "<b>Danger:</b> This alert box indicates a dangerous or potentially negative action.\n",
    "</div>"
   ]
  },
  {
   "cell_type": "markdown",
   "id": "c5703dc1",
   "metadata": {
    "slideshow": {
     "slide_type": "slide"
    }
   },
   "source": [
    "## <font color=\"purple\" >Bloques anidados (Nested Block Quoting)</font> \n",
    "\n",
    "**Ejemplo 1:**\n",
    "> Dorothy followed her through many of the beautiful rooms in her castle.\n",
    "\n",
    "**Ejemplo 2:**\n",
    "> Dorothy followed her through many of the beautiful rooms in her castle.\n",
    ">\n",
    ">> The Witch bade her clean the pots and kettles and sweep the floor and keep the fire fed with wood."
   ]
  },
  {
   "cell_type": "markdown",
   "id": "6d5f8979",
   "metadata": {
    "slideshow": {
     "slide_type": "slide"
    },
    "tags": []
   },
   "source": [
    "## <font color=\"purple\" >Lista de Verificación (CheckList)</font> \n",
    "\n",
    "- [x] Design\n",
    "\t- [ ] Stage 1\n",
    "    - [x] Sub-Stage 2\n",
    "- [x] Mockups\n",
    "- [x] Development\n",
    "- [x] Unit testing\n",
    "- [ ] QA\n",
    "- [ ] Stage\n",
    "- [ ] Beta Testing"
   ]
  },
  {
   "cell_type": "markdown",
   "id": "5572bf7c",
   "metadata": {
    "slideshow": {
     "slide_type": "slide"
    }
   },
   "source": [
    "## <font color=\"purple\" >Hipervínculos (HyperLinks)</font> \n",
    "- Acceder al sitio WEB con un click: <br>\n",
    "\tMy favorite search engine is [Duck Duck Go](https://duckduckgo.com).  \n",
    "- Acceder al sitio WEB al oprimir click y descripción poniendo encima el cursor: <br>\n",
    "\tMy favorite search engine is [Duck Duck Go](https://duckduckgo.com \"The best search engine for privacy\").\n"
   ]
  },
  {
   "cell_type": "markdown",
   "id": "8ea69d19-717d-4dbf-90fd-59093ba86265",
   "metadata": {
    "slideshow": {
     "slide_type": "slide"
    }
   },
   "source": [
    "## <font color=\"purple\" >Formato de Imágenes (Image Format)</font>\n",
    "---\n",
    "\n",
    "Imagénes tomadas de la referencia [3]"
   ]
  },
  {
   "cell_type": "markdown",
   "id": "ad206a69",
   "metadata": {
    "slideshow": {
     "slide_type": "slide"
    }
   },
   "source": [
    "**Insertar solo una imagen:** \n",
    "\n",
    "En las siguientes imágenes se observa como se puede modificar el tamaño manualmente. Además, \n",
    "\n",
    "<center> <img src=\"https://www.pbs.org/wnet/nature/files/2021/05/frog-768x432.png\" \n",
    "             alt=\"Alternative text\"\n",
    "             width=\"200\"/> </center> <br>\n",
    "Al darle click sobre la esta imagen le dirige a la página WEB donde fue tomada. <br>\n",
    "\n",
    "<div style=\"width:100%;text-align:center;\">\n",
    "<a href=\"https://www.pbs.org/wnet/nature/blog/frog-fact-sheet/\" rel=\"some text\" align =\"center\"><img src=\"https://www.pbs.org/wnet/nature/files/2021/05/pexels-thierry-fillieul-1046494-768x432.jpg\" \n",
    "             alt=\"Alternative text\"\n",
    "             width=\"200\"/></a>\n",
    "</div>"
   ]
  },
  {
   "cell_type": "markdown",
   "id": "562c8787-88e7-4777-a815-ce17d4b9b899",
   "metadata": {
    "slideshow": {
     "slide_type": "slide"
    }
   },
   "source": [
    "**Insertar varias imágenes:** <br>\n",
    "La mejor manera de hacer agregar una fila de imágenes es creando una tabla y por cada celda agregar la imagen. \n",
    "\n",
    "<table><tr>\n",
    "<td> <img src=\"https://www.pbs.org/wnet/nature/files/2021/05/frog-768x432.png\" alt=\"Drawing\" style=\"width: 250px;\"/> </td>\n",
    "<td> <img src=\"https://www.pbs.org/wnet/nature/files/2021/05/frog3-768x432.png\" alt=\"Drawing\" style=\"width: 250px;\"/> </td>\n",
    "<td> <img src=\"https://www.pbs.org/wnet/nature/files/2021/05/frog1-768x432.png\" alt=\"Drawing\" style=\"width: 250px;\"/> </td>\n",
    "</tr>\n",
    "    \n",
    "<tr>\n",
    "<td> <center><font size=\"5\" color=\"purple\" >Se puede agregar<br> texto</font></center> </td>\n",
    "<td> <img src=\"https://www.pbs.org/wnet/nature/files/2021/05/frog2-768x432.png\" alt=\"Drawing\" style=\"width: 250px;\"/> </td>    \n",
    "</tr>\n",
    "</table>"
   ]
  },
  {
   "cell_type": "markdown",
   "id": "10eeff15",
   "metadata": {
    "slideshow": {
     "slide_type": "slide"
    }
   },
   "source": [
    "## <font color=\"purple\" >Formato de vídeos (Video Format)</font>"
   ]
  },
  {
   "cell_type": "markdown",
   "id": "74e32ce8",
   "metadata": {
    "slideshow": {
     "slide_type": "fragment"
    }
   },
   "source": [
    "**Videos locales o en páginas WEB:** <br>\n",
    "No funciona para videos provenientes de Youtube.<br>\n",
    "<video width=\"320\" height=\"240\" controls \n",
    "        src=http://techslides.com/demos/sample-videos/small.webm \n",
    "        type=video/webm> \n",
    "</video>"
   ]
  },
  {
   "cell_type": "markdown",
   "id": "c12faac8",
   "metadata": {
    "slideshow": {
     "slide_type": "slide"
    }
   },
   "source": [
    "**Videos de Youtube:**<br>\n",
    "\n",
    "**Nota:** el URL del video se debe generar siguiendo los siguientes pasos:\n",
    "- Dirigirse al vídeo en la plataforma de Youtube.\n",
    "- Darle click a compartir.\n",
    "- Seleccionar incorporar el y copiar el enlace que aparece en src.\n",
    "\n",
    "***Alternativa 1:***"
   ]
  },
  {
   "cell_type": "code",
   "execution_count": 22,
   "id": "5bfe79f9",
   "metadata": {
    "slideshow": {
     "slide_type": "fragment"
    }
   },
   "outputs": [
    {
     "data": {
      "text/html": [
       "<div align=\"center\">\n",
       "<iframe width=\"560\" height=\"315\" src=\"https://www.youtube.com/embed/o4qsjmLxhow\" </iframe>\n",
       "</div>\n"
      ],
      "text/plain": [
       "<IPython.core.display.HTML object>"
      ]
     },
     "metadata": {},
     "output_type": "display_data"
    }
   ],
   "source": [
    "%%HTML\n",
    "<div align=\"center\">\n",
    "<iframe width=\"560\" height=\"315\" src=\"https://www.youtube.com/embed/o4qsjmLxhow\" </iframe>\n",
    "</div>"
   ]
  },
  {
   "cell_type": "markdown",
   "id": "2e46fe72",
   "metadata": {
    "slideshow": {
     "slide_type": "slide"
    }
   },
   "source": [
    "**Alternativa 2:**"
   ]
  },
  {
   "cell_type": "code",
   "execution_count": 23,
   "id": "57ee69f7",
   "metadata": {
    "slideshow": {
     "slide_type": "fragment"
    }
   },
   "outputs": [
    {
     "data": {
      "text/html": [
       "\n",
       "<div align=\"center\">\n",
       "    <iframe width=\"560\" height=\"315\"\n",
       "    src=\"https://www.youtube.com/embed/dQw4w9WgXcQ\"\n",
       "    </iframe>\n",
       "</div>\n"
      ],
      "text/plain": [
       "<IPython.core.display.HTML object>"
      ]
     },
     "execution_count": 23,
     "metadata": {},
     "output_type": "execute_result"
    }
   ],
   "source": [
    "from IPython.display import HTML\n",
    "HTML(\"\"\"\n",
    "<div align=\"center\">\n",
    "    <iframe width=\"560\" height=\"315\"\n",
    "    src=\"https://www.youtube.com/embed/dQw4w9WgXcQ\"\n",
    "    </iframe>\n",
    "</div>\n",
    "\"\"\")"
   ]
  },
  {
   "cell_type": "markdown",
   "id": "9e976eb7",
   "metadata": {
    "slideshow": {
     "slide_type": "slide"
    }
   },
   "source": [
    "## <font color=\"purple\" >Formato de Audio (Audio Format)</font>"
   ]
  },
  {
   "cell_type": "markdown",
   "id": "a40f0fe2",
   "metadata": {
    "slideshow": {
     "slide_type": "fragment"
    }
   },
   "source": [
    "**Audios:**\n",
    "\n",
    "<audio width=\"320\" height=\"240\" \n",
    "        src=\"http://www.nch.com.au/acm/8k16bitpcm.wav\"  \n",
    "        controls>\n",
    "</audio>"
   ]
  },
  {
   "cell_type": "markdown",
   "id": "b650d214-015d-4a87-b868-d35f5cd662cc",
   "metadata": {
    "slideshow": {
     "slide_type": "slide"
    },
    "tags": []
   },
   "source": [
    "# <font color=\"purple\" >Referencias (References)</font>\n",
    "\n",
    "[1] [Markdown - Tutorials](https://www.w3schools.io/file/markdown-introduction/) <br>\n",
    "[2] [The Ultimate Markdown Guide (for Jupyter Notebook)](https://medium.com/analytics-vidhya/the-ultimate-markdown-guide-for-jupyter-notebook-d5e5abf728fd)<br>\n",
    "[3] [How to Easily Embed Videos or Audios in the Jupyter Notebook](https://medium.com/@shouke.wei/how-to-easily-embed-videos-or-audios-in-the-jupyter-notebook-777e2382bebe)<br>\n",
    "[4] [How to Embed YouTube Videos in the Jupyter Notebook](https://medium.com/@shouke.wei/how-to-embed-youtube-videos-in-the-jupyter-notebook-1a5fbfc0cdc2#:~:text=To%20embed%20and%20play%20YouTube,Click%20Embed)<br>\n",
    "[5] [Frog Fact Sheet](https://www.pbs.org/wnet/nature/blog/frog-fact-sheet/)"
   ]
  }
 ],
 "metadata": {
  "kernelspec": {
   "display_name": "Python 3 (ipykernel)",
   "language": "python",
   "name": "python3"
  },
  "language_info": {
   "codemirror_mode": {
    "name": "ipython",
    "version": 3
   },
   "file_extension": ".py",
   "mimetype": "text/x-python",
   "name": "python",
   "nbconvert_exporter": "python",
   "pygments_lexer": "ipython3",
   "version": "3.9.12"
  }
 },
 "nbformat": 4,
 "nbformat_minor": 5
}
